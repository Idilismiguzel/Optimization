{
 "cells": [
  {
   "cell_type": "markdown",
   "metadata": {
    "ExecuteTime": {
     "end_time": "2020-06-18T08:24:20.239336Z",
     "start_time": "2020-06-18T08:24:20.233354Z"
    }
   },
   "source": [
    "<strong><b><font size=\"6\">Optimization with Linear Programming</font></b></strong>\n"
   ]
  },
  {
   "cell_type": "code",
   "execution_count": 1,
   "metadata": {
    "ExecuteTime": {
     "end_time": "2020-06-27T09:42:16.305227Z",
     "start_time": "2020-06-27T09:42:16.106758Z"
    }
   },
   "outputs": [],
   "source": [
    "import pulp\n",
    "from pulp import *"
   ]
  },
  {
   "cell_type": "markdown",
   "metadata": {},
   "source": [
    "# Resource Planing Example"
   ]
  },
  {
   "cell_type": "markdown",
   "metadata": {},
   "source": [
    "__Problem 1:__ A bakery makes cakes and pies every day. It can make a total of 30 items in one day, which at least must be 5 cakes and 10 pies for its planned customers. The profit on each cake is 1.5 and the profit on each pie is 2.00. How many should be made to maximize the profit?"
   ]
  },
  {
   "cell_type": "code",
   "execution_count": 3,
   "metadata": {
    "ExecuteTime": {
     "end_time": "2020-06-27T09:42:16.482756Z",
     "start_time": "2020-06-27T09:42:16.319191Z"
    }
   },
   "outputs": [
    {
     "name": "stdout",
     "output_type": "stream",
     "text": [
      "Optimal\n",
      "Produce 5.0 Cake \n",
      "Produce 25.0 Pie \n",
      "57.5\n"
     ]
    }
   ],
   "source": [
    "# Initialize the model\n",
    "model = LpProblem(\"Maximize Bakery Profits\", sense= LpMaximize)\n",
    "\n",
    "# Define Decision Variables, \n",
    "C = LpVariable('C', lowBound=5, upBound=None, cat='Integer')\n",
    "P = LpVariable('P', lowBound=10, upBound=None, cat='Integer')\n",
    "\n",
    "# Define Objective Function\n",
    "model += 1.5 * C + 2 * P \n",
    "\n",
    "# Define Constraints\n",
    "\n",
    "model += C + P <= 30\n",
    "\n",
    "# Solve Model\n",
    "model.solve()\n",
    "print(LpStatus[model.status])\n",
    "print(\"Produce {} Cake \".format(C.varValue))\n",
    "print(\"Produce {} Pie \".format(P.varValue))\n",
    "print(value(model.objective))"
   ]
  },
  {
   "cell_type": "markdown",
   "metadata": {},
   "source": [
    "__Problem 2:__ A bakery makes cakes and pies every day of a month. There is: 1 oven, 2 bakers, 1 packaging packer that works only 22 days of the month. The cake requires to use the oven for 1 day and the pie requires 0.5 day. Each baker needs to work for cake 0.5 days and pie 2 days. Packer needs to work for cake 1 day and pie 0.5 days. The profit on each cake is 15 and the profit on each pie is 12. How many should be made to maximize the profit under given conditions?"
   ]
  },
  {
   "cell_type": "code",
   "execution_count": 4,
   "metadata": {
    "ExecuteTime": {
     "end_time": "2020-06-27T09:42:16.620387Z",
     "start_time": "2020-06-27T09:42:16.485747Z"
    }
   },
   "outputs": [
    {
     "name": "stdout",
     "output_type": "stream",
     "text": [
      "Optimal\n",
      "Produce 8.0 Cake \n",
      "Produce 28.0 Pie \n",
      "456.0\n"
     ]
    }
   ],
   "source": [
    "# Initialize the model\n",
    "model = LpProblem(\"Maximize Bakery Profits\", sense= LpMaximize)\n",
    "\n",
    "# Define Decision Variables, \n",
    "Cake = LpVariable('Cake', lowBound=0, upBound=None, cat='Integer')\n",
    "Pie = LpVariable('Pie', lowBound=0, upBound=None, cat='Integer')\n",
    "\n",
    "# Define Objective Function\n",
    "model += 15 * Cake + 12 * Pie\n",
    "\n",
    "# Define Constraints\n",
    "\n",
    "model += 1 * Cake + 0.5 * Pie <= 30\n",
    "model += 0.5 * Cake + 2 * Pie <= 60\n",
    "model += 1 * Cake + 0.5 * Pie <= 22\n",
    "\n",
    "# Solve Model\n",
    "model.solve()\n",
    "print(LpStatus[model.status])\n",
    "print(\"Produce {} Cake \".format(Cake.varValue))\n",
    "print(\"Produce {} Pie \".format(Pie.varValue))\n",
    "print(value(model.objective))"
   ]
  },
  {
   "cell_type": "code",
   "execution_count": null,
   "metadata": {},
   "outputs": [],
   "source": []
  },
  {
   "cell_type": "markdown",
   "metadata": {},
   "source": [
    "# Scheduling Example# "
   ]
  },
  {
   "cell_type": "markdown",
   "metadata": {},
   "source": [
    "A post office is looking to hire postman, with the requirements to work 5 consecutive days and then 2 days off. The objective is to hire the minimum number of workers and the estimated number of postmen needed for each day is Monday: 25, Tuesday: 32, Wednesday: 22, Thursday: 18, Friday: 24, Saturday: 12, Sunday: 14. What would be the minimum number of postmen to hire?"
   ]
  },
  {
   "cell_type": "code",
   "execution_count": 5,
   "metadata": {
    "ExecuteTime": {
     "end_time": "2020-06-27T09:42:16.766995Z",
     "start_time": "2020-06-27T09:42:16.622382Z"
    }
   },
   "outputs": [
    {
     "name": "stdout",
     "output_type": "stream",
     "text": [
      "Status: Optimal\n",
      "workers__0 = 7.0\n",
      "workers__1 = 7.0\n",
      "workers__2 = 0.0\n",
      "workers__3 = 0.0\n",
      "workers__4 = 10.0\n",
      "workers__5 = 0.0\n",
      "workers__6 = 8.0\n"
     ]
    }
   ],
   "source": [
    "#Initialize model\n",
    "model = LpProblem(\"Minimize Number of Workers\", LpMinimize)\n",
    "\n",
    "#Define decision variables\n",
    "days = list(range(7))\n",
    "x = LpVariable.dicts('workers_', days, lowBound=0, cat='Integer')\n",
    "\n",
    "#Define model\n",
    "model += lpSum([x[i] for i in days])\n",
    "\n",
    "# Define constraints\n",
    "model += x[0] + x[3] + x[4] + x[5] + x[6] >= 25\n",
    "model += x[0] + x[1] + x[4] + x[5] + x[6] >= 32\n",
    "model += x[0] + x[1] + x[2] + x[5] + x[6] >= 22\n",
    "model += x[0] + x[1] + x[2] + x[3] + x[6] >= 18\n",
    "model += x[0] + x[1] + x[2] + x[3] + x[4] >= 24\n",
    "model += x[1] + x[2] + x[3] + x[4] + x[5] >= 12\n",
    "model += x[2] + x[3] + x[4] + x[5] + x[6] >= 14\n",
    "\n",
    "# Solve model\n",
    "model.solve()\n",
    "\n",
    "#Print model status\n",
    "print(\"Status:\", LpStatus[model.status])\n",
    "\n",
    "#Print solution variables\n",
    "for variable in model.variables():\n",
    "    print (\"{} = {}\".format(variable.name, variable.varValue))"
   ]
  },
  {
   "cell_type": "markdown",
   "metadata": {},
   "source": [
    "# Location Problem Example"
   ]
  },
  {
   "cell_type": "markdown",
   "metadata": {},
   "source": [
    "Assume that you need to optimize a manufacturing company's supply chain network across 5 selling locations to meet with demand by location at the lowest cost. You can decide the plant size in each location where the options are low capacity and high capacity. One possibility is to set up a facility in each region with an advantage of low transportation costs and a disadvantage of having production plans sized to meet local demands and not exploiting the economies of scale. Another possibility is to set up a few manufacturing plants with an advantage of economies of scale but requiring higher transportation costs. Given, you have the estimated demand for each location, variable costs of transportation from one plant to another, fixed costs of having a plant-based on its size and the production capacity based on plant size is 500 for low capacity and 1500 for high capacity. How would you solve this problem with the minimum cost?"
   ]
  },
  {
   "cell_type": "code",
   "execution_count": 6,
   "metadata": {
    "ExecuteTime": {
     "end_time": "2020-06-27T09:42:20.124880Z",
     "start_time": "2020-06-27T09:42:16.769986Z"
    }
   },
   "outputs": [],
   "source": [
    "import pandas as pd"
   ]
  },
  {
   "cell_type": "code",
   "execution_count": 7,
   "metadata": {
    "ExecuteTime": {
     "end_time": "2020-06-27T09:42:20.157793Z",
     "start_time": "2020-06-27T09:42:20.127872Z"
    }
   },
   "outputs": [],
   "source": [
    "#Given:\n",
    "dmd = {'Demand': {'A': 145.4,\n",
    "  'B': 84.1,\n",
    "  'C': 156.4,\n",
    "  'D': 1676.8,\n",
    "  'E': 2719.6}}\n",
    "\n",
    "var_co = {'A': {'A': 8, 'B': 14, 'C': 23, 'D': 21, 'E': 12},\n",
    " 'B': {'A': 14, 'B': 6, 'C': 13, 'D': 14, 'E': 13},\n",
    " 'C': {'A': 21, 'B': 13, 'C': 8, 'D': 9, 'E': 17},\n",
    " 'D': {'A': 21, 'B': 14, 'C': 10, 'D': 3, 'E': 20},\n",
    " 'E': {'A': 12, 'B': 13, 'C': 22, 'D': 20, 'E': 6}}\n",
    "\n",
    "fix_co = {'High_C': {'A': 4730,\n",
    "  'B': 7270,\n",
    "  'C': 3080,\n",
    "  'D': 9100,\n",
    "  'E': 9500},\n",
    " 'Low_C': {'A': 3230,\n",
    "  'B': 4980,\n",
    "  'C': 2110,\n",
    "  'D': 6230,\n",
    "  'E': 6500}}\n",
    "\n",
    "cap = {'High_C': {'A': 1500,\n",
    "  'B': 1500,\n",
    "  'C': 1500,\n",
    "  'D': 1500,\n",
    "  'E': 1500},\n",
    " 'Low_C': {'A': 500,\n",
    "  'B': 500,\n",
    "  'C': 500,\n",
    "  'D': 500,\n",
    "  'E': 500}}\n",
    "\n",
    "demand = pd.DataFrame(dmd)\n",
    "var_cost = pd.DataFrame(var_co)\n",
    "fix_cost = pd.DataFrame(fix_co)\n",
    "capacity = pd.DataFrame(cap)"
   ]
  },
  {
   "cell_type": "code",
   "execution_count": 8,
   "metadata": {
    "ExecuteTime": {
     "end_time": "2020-06-27T09:42:20.402140Z",
     "start_time": "2020-06-27T09:42:20.164773Z"
    }
   },
   "outputs": [
    {
     "name": "stdout",
     "output_type": "stream",
     "text": [
      "      prod  quantity\n",
      "0   A to A     145.4\n",
      "1   A to B       0.0\n",
      "2   A to C       0.0\n",
      "3   A to D       0.0\n",
      "4   A to E    1219.6\n",
      "5   B to A       0.0\n",
      "6   B to B       0.0\n",
      "7   B to C       0.0\n",
      "8   B to D       0.0\n",
      "9   B to E       0.0\n",
      "10  C to A       0.0\n",
      "11  C to B      84.1\n",
      "12  C to C     156.4\n",
      "13  C to D     176.8\n",
      "14  C to E       0.0\n",
      "15  D to A       0.0\n",
      "16  D to B       0.0\n",
      "17  D to C       0.0\n",
      "18  D to D    1500.0\n",
      "19  D to E       0.0\n",
      "20  E to A       0.0\n",
      "21  E to B       0.0\n",
      "22  E to C       0.0\n",
      "23  E to D       0.0\n",
      "24  E to E    1500.0\n",
      "   lowCap  highCap\n",
      "A     0.0      1.0\n",
      "B     0.0      0.0\n",
      "C     1.0      0.0\n",
      "D     0.0      1.0\n",
      "E     0.0      1.0\n",
      "Objective =  58850.9\n",
      "Sensitivity Analysis\n",
      "   name  dual value  slack\n",
      "0   _C1         8.0   -0.0\n",
      "1   _C2        13.0   -0.0\n",
      "2   _C3         8.0   -0.0\n",
      "3   _C4        10.0   -0.0\n",
      "4   _C5        12.0   -0.0\n",
      "5   _C6         0.0  135.0\n",
      "6   _C7        -7.0   -0.0\n",
      "7   _C8         0.0   82.7\n",
      "8   _C9        -7.0   -0.0\n",
      "9  _C10        -6.0   -0.0\n"
     ]
    }
   ],
   "source": [
    "# Initialize model\n",
    "model = LpProblem(\"Facility Location Problem\", LpMinimize)\n",
    "\n",
    "#Define decision variables\n",
    "loc = ['A', 'B', 'C', 'D', 'E']\n",
    "size = ['Low_C','High_C']\n",
    "\n",
    "x = LpVariable.dicts('production_', [(i,j) for i in loc for j in loc], lowBound=0, upBound=None, cat='Continuous')\n",
    "y = LpVariable.dicts('plant_', [(i,s) for s in size for i in loc], lowBound=None, upBound=None, cat='Binary')\n",
    "#Define model\n",
    "model += (lpSum([fix_cost.loc[i,s] * y[(i,s)] for s in size for i in loc])\n",
    "          + lpSum([var_cost.loc[i,j] * x[(i,j)] for i in loc for j in loc]))\n",
    "\n",
    "# Define constraints\n",
    "for j in loc:\n",
    "    model += lpSum([x[(i, j)] for i in loc]) == demand.loc[j,'Demand']\n",
    "for i in loc:\n",
    "    model += lpSum([x[i, j] for j in loc]) <= lpSum([capacity.loc[i,s] * y[i,s] for s in size])\n",
    "    \n",
    "# Solve\n",
    "model.solve()\n",
    "\n",
    "# Print results for production quantities\n",
    "sol = [{'prod':'{} to {}'.format(i,j), 'quantity':x[(i,j)].varValue} \n",
    "     for i in loc for j in loc]\n",
    "print(pd.DataFrame(sol))\n",
    "\n",
    "# Print results for plant capacities based on location\n",
    "sol = [{'lowCap':y[(i,size[0])].varValue, 'highCap':y[(i,size[1])].varValue}\n",
    "     for i in loc]\n",
    "print(pd.DataFrame(sol, index=loc))\n",
    "\n",
    "# Print the Objective Value\n",
    "print('Objective = ', value(model.objective))\n",
    "\n",
    "# Print Sensitivity Analysis Results: Dual Value and Slack\n",
    "print('Sensitivity Analysis')\n",
    "sol = [{'name':name, 'dual value':c.pi, 'slack': c.slack}\n",
    "for name, c in model.constraints.items()]\n",
    "print(pd.DataFrame(sol))"
   ]
  }
 ],
 "metadata": {
  "kernelspec": {
   "display_name": "Python 3",
   "language": "python",
   "name": "python3"
  },
  "language_info": {
   "codemirror_mode": {
    "name": "ipython",
    "version": 3
   },
   "file_extension": ".py",
   "mimetype": "text/x-python",
   "name": "python",
   "nbconvert_exporter": "python",
   "pygments_lexer": "ipython3",
   "version": "3.7.4"
  },
  "toc": {
   "base_numbering": 1,
   "nav_menu": {},
   "number_sections": true,
   "sideBar": true,
   "skip_h1_title": false,
   "title_cell": "Table of Contents",
   "title_sidebar": "Contents",
   "toc_cell": false,
   "toc_position": {},
   "toc_section_display": true,
   "toc_window_display": false
  },
  "varInspector": {
   "cols": {
    "lenName": 16,
    "lenType": 16,
    "lenVar": 40
   },
   "kernels_config": {
    "python": {
     "delete_cmd_postfix": "",
     "delete_cmd_prefix": "del ",
     "library": "var_list.py",
     "varRefreshCmd": "print(var_dic_list())"
    },
    "r": {
     "delete_cmd_postfix": ") ",
     "delete_cmd_prefix": "rm(",
     "library": "var_list.r",
     "varRefreshCmd": "cat(var_dic_list()) "
    }
   },
   "types_to_exclude": [
    "module",
    "function",
    "builtin_function_or_method",
    "instance",
    "_Feature"
   ],
   "window_display": false
  }
 },
 "nbformat": 4,
 "nbformat_minor": 2
}
